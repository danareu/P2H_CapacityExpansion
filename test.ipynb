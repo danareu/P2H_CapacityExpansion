{
 "cells": [
  {
   "cell_type": "code",
   "execution_count": 36,
   "metadata": {},
   "outputs": [
    {
     "name": "stderr",
     "output_type": "stream",
     "text": [
      "WARNING: replacing module P2H_CapacityExpansion.\n",
      "\u001b[32m\u001b[1m  Activating\u001b[22m\u001b[39m project at `~/git`\n",
      "\u001b[32m\u001b[1m   Resolving\u001b[22m\u001b[39m package versions...\n",
      "\u001b[32m\u001b[1m  No Changes\u001b[22m\u001b[39m to `~/git/Project.toml`\n",
      "\u001b[32m\u001b[1m  No Changes\u001b[22m\u001b[39m to `~/git/Manifest.toml`\n"
     ]
    }
   ],
   "source": [
    "using Pkg\n",
    "include(\"./P2H_CapacityExpansion.jl\")\n",
    "cd(\"/cluster/home/danare/git\")\n",
    "Pkg.activate(\".\")\n",
    "using .P2H_CapacityExpansion\n",
    "using CPLEX\n",
    "using JuMP\n",
    "using XLSX\n",
    "using PlotlyJS\n",
    "using Gurobi\n",
    "using Dates\n",
    "ENV[\"CPLEX_STUDIO_BINARIES\"] = \"/cluster/home/danare/opt/ibm/ILOG/CPLEX_Studio2211/cplex/bin/x86-64_linux/\"\n",
    "Pkg.add(\"CPLEX\")"
   ]
  },
  {
   "cell_type": "code",
   "execution_count": 37,
   "metadata": {},
   "outputs": [],
   "source": [
    "# read in the data\n",
    "config = P2H_CapacityExpansion.read_yaml_file();\n",
    "data = P2H_CapacityExpansion.load_cep_data(config=config);\n",
    "ts_data = P2H_CapacityExpansion.load_timeseries_data_full(config=config);"
   ]
  },
  {
   "cell_type": "code",
   "execution_count": 38,
   "metadata": {},
   "outputs": [
    {
     "name": "stderr",
     "output_type": "stream",
     "text": [
      "┌ Info: Reading the data ...\n",
      "└ @ Main.P2H_CapacityExpansion /cluster/home/danare/git/P2H_CapacityExpansion/src/opt.jl:17\n",
      "┌ Info: Setting up the optimization variables ...\n",
      "└ @ Main.P2H_CapacityExpansion /cluster/home/danare/git/P2H_CapacityExpansion/src/opt.jl:20\n",
      "┌ Warning: Axis contains one element: 2020. If intended, you can safely ignore this warning. To explicitly pass the axis with one element, pass `[2020]` instead of `2020`.\n",
      "└ @ JuMP.Containers /cluster/home/danare/.julia/packages/JuMP/R53zo/src/Containers/DenseAxisArray.jl:186\n",
      "┌ Warning: Axis contains one element: 2020. If intended, you can safely ignore this warning. To explicitly pass the axis with one element, pass `[2020]` instead of `2020`.\n",
      "└ @ JuMP.Containers /cluster/home/danare/.julia/packages/JuMP/R53zo/src/Containers/DenseAxisArray.jl:186\n",
      "┌ Warning: Axis contains one element: 2020. If intended, you can safely ignore this warning. To explicitly pass the axis with one element, pass `[2020]` instead of `2020`.\n",
      "└ @ JuMP.Containers /cluster/home/danare/.julia/packages/JuMP/R53zo/src/Containers/DenseAxisArray.jl:186\n",
      "┌ Warning: Axis contains one element: 2020. If intended, you can safely ignore this warning. To explicitly pass the axis with one element, pass `[2020]` instead of `2020`.\n",
      "└ @ JuMP.Containers /cluster/home/danare/.julia/packages/JuMP/R53zo/src/Containers/DenseAxisArray.jl:186\n",
      "┌ Info: Setting up the optimization equations ...\n",
      "└ @ Main.P2H_CapacityExpansion /cluster/home/danare/git/P2H_CapacityExpansion/src/opt.jl:23\n",
      "┌ Warning: Axis contains one element: 2020. If intended, you can safely ignore this warning. To explicitly pass the axis with one element, pass `[2020]` instead of `2020`.\n",
      "└ @ JuMP.Containers /cluster/home/danare/.julia/packages/JuMP/R53zo/src/Containers/DenseAxisArray.jl:186\n",
      "┌ Warning: Axis contains one element: 2020. If intended, you can safely ignore this warning. To explicitly pass the axis with one element, pass `[2020]` instead of `2020`.\n",
      "└ @ JuMP.Containers /cluster/home/danare/.julia/packages/JuMP/R53zo/src/Containers/DenseAxisArray.jl:186\n",
      "┌ Warning: Axis contains one element: 2020. If intended, you can safely ignore this warning. To explicitly pass the axis with one element, pass `[2020]` instead of `2020`.\n",
      "└ @ JuMP.Containers /cluster/home/danare/.julia/packages/JuMP/R53zo/src/Containers/DenseAxisArray.jl:186\n",
      "┌ Warning: Axis contains one element: 2020. If intended, you can safely ignore this warning. To explicitly pass the axis with one element, pass `[2020]` instead of `2020`.\n",
      "└ @ JuMP.Containers /cluster/home/danare/.julia/packages/JuMP/R53zo/src/Containers/DenseAxisArray.jl:186\n",
      "┌ Warning: Axis contains one element: 2020. If intended, you can safely ignore this warning. To explicitly pass the axis with one element, pass `[2020]` instead of `2020`.\n",
      "└ @ JuMP.Containers /cluster/home/danare/.julia/packages/JuMP/R53zo/src/Containers/DenseAxisArray.jl:186\n",
      "┌ Warning: Axis contains one element: 2020. If intended, you can safely ignore this warning. To explicitly pass the axis with one element, pass `[2020]` instead of `2020`.\n",
      "└ @ JuMP.Containers /cluster/home/danare/.julia/packages/JuMP/R53zo/src/Containers/DenseAxisArray.jl:186\n",
      "┌ Warning: Axis contains one element: 2020. If intended, you can safely ignore this warning. To explicitly pass the axis with one element, pass `[2020]` instead of `2020`.\n",
      "└ @ JuMP.Containers /cluster/home/danare/.julia/packages/JuMP/R53zo/src/Containers/DenseAxisArray.jl:186\n",
      "┌ Warning: Axis contains one element: 2020. If intended, you can safely ignore this warning. To explicitly pass the axis with one element, pass `[2020]` instead of `2020`.\n",
      "└ @ JuMP.Containers /cluster/home/danare/.julia/packages/JuMP/R53zo/src/Containers/DenseAxisArray.jl:186\n",
      "┌ Warning: Axis contains one element: 2020. If intended, you can safely ignore this warning. To explicitly pass the axis with one element, pass `[2020]` instead of `2020`.\n",
      "└ @ JuMP.Containers /cluster/home/danare/.julia/packages/JuMP/R53zo/src/Containers/DenseAxisArray.jl:186\n",
      "┌ Warning: Axis contains one element: 2020. If intended, you can safely ignore this warning. To explicitly pass the axis with one element, pass `[2020]` instead of `2020`.\n",
      "└ @ JuMP.Containers /cluster/home/danare/.julia/packages/JuMP/R53zo/src/Containers/DenseAxisArray.jl:186\n",
      "┌ Warning: Axis contains one element: 2020. If intended, you can safely ignore this warning. To explicitly pass the axis with one element, pass `[2020]` instead of `2020`.\n",
      "└ @ JuMP.Containers /cluster/home/danare/.julia/packages/JuMP/R53zo/src/Containers/DenseAxisArray.jl:186\n",
      "┌ Warning: Axis contains one element: 2020. If intended, you can safely ignore this warning. To explicitly pass the axis with one element, pass `[2020]` instead of `2020`.\n",
      "└ @ JuMP.Containers /cluster/home/danare/.julia/packages/JuMP/R53zo/src/Containers/DenseAxisArray.jl:186\n",
      "┌ Warning: Axis contains one element: 2020. If intended, you can safely ignore this warning. To explicitly pass the axis with one element, pass `[2020]` instead of `2020`.\n",
      "└ @ JuMP.Containers /cluster/home/danare/.julia/packages/JuMP/R53zo/src/Containers/DenseAxisArray.jl:186\n",
      "┌ Warning: Axis contains one element: 2020. If intended, you can safely ignore this warning. To explicitly pass the axis with one element, pass `[2020]` instead of `2020`.\n",
      "└ @ JuMP.Containers /cluster/home/danare/.julia/packages/JuMP/R53zo/src/Containers/DenseAxisArray.jl:186\n",
      "┌ Warning: Axis contains one element: 2020. If intended, you can safely ignore this warning. To explicitly pass the axis with one element, pass `[2020]` instead of `2020`.\n",
      "└ @ JuMP.Containers /cluster/home/danare/.julia/packages/JuMP/R53zo/src/Containers/DenseAxisArray.jl:186\n",
      "┌ Warning: Axis contains one element: 2020. If intended, you can safely ignore this warning. To explicitly pass the axis with one element, pass `[2020]` instead of `2020`.\n",
      "└ @ JuMP.Containers /cluster/home/danare/.julia/packages/JuMP/R53zo/src/Containers/DenseAxisArray.jl:186\n"
     ]
    }
   ],
   "source": [
    "# run the optimization model\n",
    "model = P2H_CapacityExpansion.run_opt(ts_data=ts_data, data=data, config=config);"
   ]
  },
  {
   "cell_type": "code",
   "execution_count": null,
   "metadata": {},
   "outputs": [],
   "source": [
    "result = P2H_CapacityExpansion.optimize_and_output(cep=model)"
   ]
  },
  {
   "cell_type": "code",
   "execution_count": null,
   "metadata": {},
   "outputs": [],
   "source": [
    "sets = Dict()\n",
    "for g ∈ config[\"techs\"]\n",
    "    if haskey(spec, i)\n",
    "    input_carrier  = get(config[\"techs\"][g][\"input\"], \"carrier\", nothing)\n",
    "    output_carrier = get(config[\"techs\"][g][\"output\"], \"carrier\", nothing)\n",
    "    print(input_carrier)\n",
    "    for carrier ∈ unique(filter(!isnothing, [input_carrier, output_carrier]))\n",
    "        if !haskey(sets, carrier)\n",
    "            sets[carrier] = String[]\n",
    "        end\n",
    "        push!(sets[carrier], g)\n",
    "    end\n",
    "end"
   ]
  },
  {
   "cell_type": "code",
   "execution_count": null,
   "metadata": {},
   "outputs": [],
   "source": [
    "[i[1] for i ∈ unique(keys(data.lines))]"
   ]
  },
  {
   "cell_type": "code",
   "execution_count": null,
   "metadata": {},
   "outputs": [],
   "source": [
    "data.lines"
   ]
  },
  {
   "cell_type": "code",
   "execution_count": null,
   "metadata": {},
   "outputs": [],
   "source": [
    "matching_lines = [l for ((t, l), v) in data.lines if t == \"trans_elec\" && v.node_end == \"DE\"]"
   ]
  },
  {
   "cell_type": "code",
   "execution_count": null,
   "metadata": {},
   "outputs": [],
   "source": []
  }
 ],
 "metadata": {
  "kernelspec": {
   "display_name": "Julia 1.9.2",
   "language": "julia",
   "name": "julia-1.9"
  },
  "language_info": {
   "file_extension": ".jl",
   "mimetype": "application/julia",
   "name": "julia",
   "version": "1.9.2"
  }
 },
 "nbformat": 4,
 "nbformat_minor": 2
}
